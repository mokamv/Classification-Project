{
 "cells": [
  {
   "cell_type": "code",
   "execution_count": null,
   "id": "0916a0bd",
   "metadata": {},
   "outputs": [],
   "source": [
    "# imports\n",
    "import scipy.io as sio\n",
    "import numpy as np\n",
    "import matplotlib.pyplot as plt\n"
   ]
  },
  {
   "cell_type": "markdown",
   "id": "b28c3631",
   "metadata": {},
   "source": [
    "first load the data from data_all.mat"
   ]
  },
  {
   "cell_type": "code",
   "execution_count": null,
   "id": "03edd900",
   "metadata": {},
   "outputs": [],
   "source": [
    "\n",
    "data = sio.loadmat(\"MNist_ttt4275/data_all.mat\", spmatrix=False);"
   ]
  },
  {
   "cell_type": "markdown",
   "id": "104de18f",
   "metadata": {},
   "source": [
    "then we read the image data from \"testv\" and reshape it to 28x28 and adding all the images to a list\n",
    "```"
   ]
  },
  {
   "cell_type": "code",
   "execution_count": 39,
   "id": "5ef101ba",
   "metadata": {},
   "outputs": [],
   "source": [
    "testv = data[\"testv\"]\n",
    "\n",
    "images = []\n",
    "\n",
    "for i in range(len(testv)):\n",
    "    images.append(testv[i, :].reshape((28,28)))\n",
    "    \n",
    "images = np.array(images)\n"
   ]
  },
  {
   "cell_type": "code",
   "execution_count": 38,
   "id": "26fdc868",
   "metadata": {},
   "outputs": [
    {
     "data": {
      "text/plain": [
       "<function matplotlib.pyplot.show(close=None, block=None)>"
      ]
     },
     "execution_count": 38,
     "metadata": {},
     "output_type": "execute_result"
    },
    {
     "data": {
      "image/png": "[encoded data removed]",
      "text/plain": [
       "<Figure size 640x480 with 1 Axes>"
      ]
     },
     "metadata": {},
     "output_type": "display_data"
    }
   ],
   "source": [
    "# show image using pyplot\n",
    "plt.imshow(images[22], cmap=\"gray\")\n",
    "plt.show"
   ]
  },
  {
   "cell_type": "code",
   "execution_count": null,
   "id": "e5837f7e",
   "metadata": {},
   "outputs": [],
   "source": []
  }
 ],
 "metadata": {
  "kernelspec": {
   "display_name": ".venv",
   "language": "python",
   "name": "python3"
  },
  "language_info": {
   "codemirror_mode": {
    "name": "ipython",
    "version": 3
   },
   "file_extension": ".py",
   "mimetype": "text/x-python",
   "name": "python",
   "nbconvert_exporter": "python",
   "pygments_lexer": "ipython3",
   "version": "3.13.3"
  }
 },
 "nbformat": 4,
 "nbformat_minor": 5
}
